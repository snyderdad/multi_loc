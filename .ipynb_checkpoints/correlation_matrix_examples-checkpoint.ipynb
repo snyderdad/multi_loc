{
 "cells": [
  {
   "cell_type": "code",
   "execution_count": 8,
   "metadata": {},
   "outputs": [],
   "source": [
    "import numpy as np\n",
    "import scipy as sp\n",
    "import scipy.special\n",
    "import matplotlib.pyplot as plt"
   ]
  },
  {
   "cell_type": "code",
   "execution_count": null,
   "metadata": {},
   "outputs": [],
   "source": [
    "sp.special.kv()"
   ]
  },
  {
   "cell_type": "code",
   "execution_count": 13,
   "metadata": {},
   "outputs": [
    {
     "data": {
      "text/plain": [
       "array([3])"
      ]
     },
     "execution_count": 13,
     "metadata": {},
     "output_type": "execute_result"
    }
   ],
   "source": [
    "this = np.arange(10)\n",
    "that = np.where(this==3)[0]\n",
    "this[that]"
   ]
  },
  {
   "cell_type": "code",
   "execution_count": 86,
   "metadata": {},
   "outputs": [
    {
     "name": "stdout",
     "output_type": "stream",
     "text": [
      "[10  9  8  7  6  5  4  3  2  1  0  1  2  3  4  5  6  7  8  9 10]\n",
      "(array([ 9, 11]),)\n"
     ]
    }
   ],
   "source": [
    "this = np.abs(np.arange(21) - 10)\n",
    "print(this)\n",
    "this_ones = np.where(this==1)\n",
    "print(this_ones)"
   ]
  },
  {
   "cell_type": "code",
   "execution_count": 115,
   "metadata": {},
   "outputs": [],
   "source": [
    "def correlation_matern(rho, rho0, nu=2.5):                                                                                                                                                                                                                                                                             \n",
    "    rho1 = np.sqrt(2 * nu) * np.abs(rho) / rho0                                                                                                             \n",
    "\n",
    "    zero_indices = np.where(rho1 == 0)[0]                                                                                                                                   \n",
    "\n",
    "    c = (rho1 ** nu \n",
    "         * sp.special.kv(nu, rho1) \n",
    "         / sp.special.gamma(nu) \n",
    "         / 2.0 ** (nu - 1))                                                                              \n",
    "    c[zero_indices] = 1.0\n",
    "    \n",
    "    return c"
   ]
  },
  {
   "cell_type": "code",
   "execution_count": 48,
   "metadata": {},
   "outputs": [],
   "source": [
    "def correlation_exp(rho, rho0, dummy):\n",
    "    c = np.exp(-np.abs(rho/rho0))\n",
    "    return c"
   ]
  },
  {
   "cell_type": "code",
   "execution_count": 119,
   "metadata": {},
   "outputs": [],
   "source": [
    "def correlation_sqd_exp(rho, rho0, dummy):\n",
    "    c = np.exp(-(rho**2 / (2 * rho0**2)))\n",
    "    return c"
   ]
  },
  {
   "cell_type": "code",
   "execution_count": 72,
   "metadata": {},
   "outputs": [],
   "source": [
    "rho = np.arange(10)\n",
    "rho0 = 10\n",
    "nu = .5"
   ]
  },
  {
   "cell_type": "code",
   "execution_count": 79,
   "metadata": {},
   "outputs": [
    {
     "name": "stdout",
     "output_type": "stream",
     "text": [
      "100\n",
      "[nan]\n"
     ]
    },
    {
     "name": "stderr",
     "output_type": "stream",
     "text": [
      "/Users/harty/anaconda3/lib/python3.6/site-packages/ipykernel_launcher.py:9: RuntimeWarning: invalid value encountered in multiply\n",
      "  if __name__ == '__main__':\n"
     ]
    },
    {
     "data": {
      "text/plain": [
       "array([1.        , 0.99496236, 0.98000271, 0.9555731 , 0.92240139,\n",
       "       0.88145491, 0.8338932 , 0.78101311, 0.72418991, 0.66481809])"
      ]
     },
     "execution_count": 79,
     "metadata": {},
     "output_type": "execute_result"
    }
   ],
   "source": [
    "print(nu)\n",
    "correlation_matern(rho, rho0, nu)"
   ]
  },
  {
   "cell_type": "code",
   "execution_count": 74,
   "metadata": {},
   "outputs": [
    {
     "data": {
      "text/plain": [
       "array([1.        , 0.90483742, 0.81873075, 0.74081822, 0.67032005,\n",
       "       0.60653066, 0.54881164, 0.4965853 , 0.44932896, 0.40656966])"
      ]
     },
     "execution_count": 74,
     "metadata": {},
     "output_type": "execute_result"
    }
   ],
   "source": [
    "correlation_exp(rho, rho0, nu)"
   ]
  },
  {
   "cell_type": "code",
   "execution_count": null,
   "metadata": {},
   "outputs": [],
   "source": []
  },
  {
   "cell_type": "code",
   "execution_count": null,
   "metadata": {},
   "outputs": [],
   "source": []
  },
  {
   "cell_type": "code",
   "execution_count": 130,
   "metadata": {},
   "outputs": [],
   "source": [
    "rho = np.arange(10)\n",
    "rho0 = 10\n",
    "nu = 150"
   ]
  },
  {
   "cell_type": "code",
   "execution_count": 131,
   "metadata": {},
   "outputs": [
    {
     "name": "stdout",
     "output_type": "stream",
     "text": [
      "150\n"
     ]
    },
    {
     "name": "stderr",
     "output_type": "stream",
     "text": [
      "/Users/harty/anaconda3/lib/python3.6/site-packages/ipykernel_launcher.py:9: RuntimeWarning: invalid value encountered in multiply\n",
      "  if __name__ == '__main__':\n"
     ]
    },
    {
     "data": {
      "text/plain": [
       "array([1.        , 0.99497918, 0.98006845, 0.95571542, 0.92264105,\n",
       "       0.88180398, 0.83435417, 0.78157885, 0.72484455, 0.66553864])"
      ]
     },
     "execution_count": 131,
     "metadata": {},
     "output_type": "execute_result"
    }
   ],
   "source": [
    "print(nu)\n",
    "correlation_matern(rho, rho0, nu)"
   ]
  },
  {
   "cell_type": "code",
   "execution_count": 122,
   "metadata": {},
   "outputs": [
    {
     "data": {
      "text/plain": [
       "array([1.        , 0.99501248, 0.98019867, 0.95599748, 0.92311635,\n",
       "       0.8824969 , 0.83527021, 0.78270454, 0.72614904, 0.66697681])"
      ]
     },
     "execution_count": 122,
     "metadata": {},
     "output_type": "execute_result"
    }
   ],
   "source": [
    "correlation_sqd_exp(rho, rho0, nu)"
   ]
  },
  {
   "cell_type": "code",
   "execution_count": 135,
   "metadata": {},
   "outputs": [
    {
     "data": {
      "text/plain": [
       "array([[0., 0., 0., 0., 0., 0., 0., 0., 0., 0.],\n",
       "       [0., 0., 0., 0., 0., 0., 0., 0., 0., 0.],\n",
       "       [0., 0., 0., 0., 0., 0., 0., 0., 0., 0.],\n",
       "       [0., 0., 0., 0., 0., 0., 0., 0., 0., 0.],\n",
       "       [0., 0., 0., 0., 0., 0., 0., 0., 0., 0.],\n",
       "       [0., 0., 0., 0., 0., 0., 0., 0., 0., 0.],\n",
       "       [0., 0., 0., 0., 0., 0., 0., 0., 0., 0.],\n",
       "       [0., 0., 0., 0., 0., 0., 0., 0., 0., 0.],\n",
       "       [0., 0., 0., 0., 0., 0., 0., 0., 0., 0.],\n",
       "       [0., 0., 0., 0., 0., 0., 0., 0., 0., 0.]])"
      ]
     },
     "execution_count": 135,
     "metadata": {},
     "output_type": "execute_result"
    }
   ],
   "source": [
    "np.zeros([rho.size, rho.size])"
   ]
  },
  {
   "cell_type": "code",
   "execution_count": null,
   "metadata": {},
   "outputs": [],
   "source": []
  },
  {
   "cell_type": "code",
   "execution_count": null,
   "metadata": {},
   "outputs": [],
   "source": []
  },
  {
   "cell_type": "code",
   "execution_count": 194,
   "metadata": {},
   "outputs": [],
   "source": [
    "def makeCorrelationMatrix(rho, rho0, correlation, nu=None):                                                                                                                                                                                                                                                               \n",
    "    Nx = rho.size                                                                                                                                              \n",
    "    cor_vec = correlation(rho, rho0, nu)                                                                                                                                                                                                                                                                        \n",
    "    C = np.zeros([Nx, Nx])                                                                                                                                                                                                                                                                                          \n",
    "    cor_vec = np.concatenate([cor_vec[:0:-1], cor_vec])                                                                                                                                                                                          \n",
    "    for i in range(Nx):\n",
    "        C[i] = cor_vec[Nx-1 - i:2 * Nx - 1 - i]\n",
    "    return C"
   ]
  },
  {
   "cell_type": "code",
   "execution_count": 210,
   "metadata": {},
   "outputs": [],
   "source": [
    "rho = np.arange(100, dtype=float)\n",
    "rho -= rho.mean()\n",
    "rho = np.abs(rho)\n",
    "rho0 = 50"
   ]
  },
  {
   "cell_type": "code",
   "execution_count": 211,
   "metadata": {},
   "outputs": [],
   "source": [
    "C = makeCorrelationMatrix(rho, rho0, correlation_sqd_exp)"
   ]
  },
  {
   "cell_type": "code",
   "execution_count": 212,
   "metadata": {},
   "outputs": [
    {
     "data": {
      "text/plain": [
       "(-0.5, 99.5, 99.5, -0.5)"
      ]
     },
     "execution_count": 212,
     "metadata": {},
     "output_type": "execute_result"
    },
    {
     "data": {
      "image/png": "[encoded data removed]",
      "text/plain": [
       "<Figure size 432x288 with 2 Axes>"
      ]
     },
     "metadata": {},
     "output_type": "display_data"
    }
   ],
   "source": [
    "plt.figure()\n",
    "im = plt.imshow(C)\n",
    "plt.colorbar(im)\n",
    "plt.axis('equal')"
   ]
  }
 ],
 "metadata": {
  "kernelspec": {
   "display_name": "Python 3",
   "language": "python",
   "name": "python3"
  },
  "language_info": {
   "codemirror_mode": {
    "name": "ipython",
    "version": 3
   },
   "file_extension": ".py",
   "mimetype": "text/x-python",
   "name": "python",
   "nbconvert_exporter": "python",
   "pygments_lexer": "ipython3",
   "version": "3.6.5"
  }
 },
 "nbformat": 4,
 "nbformat_minor": 2
}
